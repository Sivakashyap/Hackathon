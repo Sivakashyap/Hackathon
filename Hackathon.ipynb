{
 "cells": [
  {
   "cell_type": "code",
   "execution_count": 138,
   "id": "feae3075",
   "metadata": {},
   "outputs": [
    {
     "name": "stdout",
     "output_type": "stream",
     "text": [
      "(100836, 4)\n",
      "(9742, 3)\n",
      "(3683, 4)\n",
      "610\n"
     ]
    }
   ],
   "source": [
    "import pandas as pd\n",
    "df = pd.read_csv('ratings.csv')\n",
    "df1 = pd.read_csv('movies.csv')\n",
    "df2 = pd.read_csv('tags.csv')\n",
    "print(df.shape)\n",
    "print(df1.shape)\n",
    "print(df2.shape)\n",
    "unique = []\n",
    "for user in df[\"userId\"]:\n",
    "    if user not in unique:\n",
    "        unique.append(user)\n",
    "    \n",
    "print(len(unique))"
   ]
  },
  {
   "cell_type": "code",
   "execution_count": 91,
   "id": "3b35cba0",
   "metadata": {},
   "outputs": [
    {
     "name": "stdout",
     "output_type": "stream",
     "text": [
      "356\n"
     ]
    }
   ],
   "source": [
    "quan = df[\"movieId\"].value_counts()\n",
    "max_movie_id = quan.idxmax()\n",
    "print(max_movie_id)"
   ]
  },
  {
   "cell_type": "code",
   "execution_count": 36,
   "id": "47d63218",
   "metadata": {},
   "outputs": [
    {
     "name": "stdout",
     "output_type": "stream",
     "text": [
      "Forrest Gump (1994)\n"
     ]
    }
   ],
   "source": [
    "for index, row in df1.iterrows():\n",
    "    if row[\"movieId\"] == max_movie_id:\n",
    "        name = row[\"title\"]\n",
    "\n",
    "print(name)"
   ]
  },
  {
   "cell_type": "code",
   "execution_count": 44,
   "id": "7d553c15",
   "metadata": {},
   "outputs": [
    {
     "name": "stdout",
     "output_type": "stream",
     "text": [
      "['martial arts', 'sci-fi', 'alternate universe', 'philosophy', 'post apocalyptic']\n"
     ]
    }
   ],
   "source": [
    "movie_title = \"Matrix, The (1999)\"\n",
    "for index, row in df1.iterrows():\n",
    "    if row[\"title\"] == movie_title:\n",
    "        movie_id = row[\"movieId\"]\n",
    "\n",
    "tag = []\n",
    "for index, row in df2.iterrows():\n",
    "    if row[\"movieId\"] == movie_id:\n",
    "        tag.append(row[\"tag\"])\n",
    "        \n",
    "print(tag)"
   ]
  },
  {
   "cell_type": "code",
   "execution_count": 50,
   "id": "a2a16666",
   "metadata": {},
   "outputs": [
    {
     "name": "stdout",
     "output_type": "stream",
     "text": [
      "3.970982142857143\n"
     ]
    }
   ],
   "source": [
    "rat = []\n",
    "movie_title = \"Terminator 2: Judgment Day (1991)\"\n",
    "for index, row in df1.iterrows():\n",
    "    if row[\"title\"] == movie_title:\n",
    "        movie_id = row[\"movieId\"]\n",
    "for index,row in df.iterrows():\n",
    "    if row[\"movieId\"] == movie_id:\n",
    "        rat.append(row[\"rating\"])\n",
    "\n",
    "print(sum(rat)/len(rat))"
   ]
  },
  {
   "cell_type": "code",
   "execution_count": 68,
   "id": "b30256ce",
   "metadata": {},
   "outputs": [
    {
     "data": {
      "image/png": "[encoded data removed]",
      "text/plain": [
       "<Figure size 640x480 with 1 Axes>"
      ]
     },
     "metadata": {},
     "output_type": "display_data"
    }
   ],
   "source": [
    "import matplotlib.pyplot as plt\n",
    "rat = []\n",
    "movie_title = \"Fight Club (1999)\"\n",
    "for index, row in df1.iterrows():\n",
    "    if row[\"title\"] == movie_title:\n",
    "        movie_id = row[\"movieId\"]\n",
    "for index,row in df.iterrows():\n",
    "    if row[\"movieId\"] == movie_id:\n",
    "        df3 = df[\"rating\"]\n",
    "\n",
    "plt.hist(df3, bins='auto')\n",
    "plt.show()\n"
   ]
  },
  {
   "cell_type": "code",
   "execution_count": 69,
   "id": "42510707",
   "metadata": {},
   "outputs": [
    {
     "name": "stdout",
     "output_type": "stream",
     "text": [
      "Mean: 3.501556983616962\n",
      "Median: 3.5\n",
      "Mode: 0    4.0\n",
      "Name: rating, dtype: float64\n"
     ]
    }
   ],
   "source": [
    "mean_val = df3.mean()\n",
    "median_val = df3.median()\n",
    "mode_val = df3.mode()\n",
    "\n",
    "print(\"Mean:\", mean_val)\n",
    "print(\"Median:\", median_val)\n",
    "print(\"Mode:\", mode_val)"
   ]
  },
  {
   "cell_type": "code",
   "execution_count": 70,
   "id": "6e93a4f4",
   "metadata": {},
   "outputs": [
    {
     "name": "stdout",
     "output_type": "stream",
     "text": [
      "Skewness: -0.6371899104652523\n"
     ]
    }
   ],
   "source": [
    "from scipy.stats import skew\n",
    "skewness = skew(df3)\n",
    "print(\"Skewness:\", skewness)"
   ]
  },
  {
   "cell_type": "code",
   "execution_count": 139,
   "id": "4772cbd1",
   "metadata": {},
   "outputs": [
    {
     "name": "stdout",
     "output_type": "stream",
     "text": [
      "      movieId  count      mean                             title  \\\n",
      "0           1    215  3.920930                  Toy Story (1995)   \n",
      "1           2    110  3.431818                    Jumanji (1995)   \n",
      "2           3     52  3.259615           Grumpier Old Men (1995)   \n",
      "5           6    102  3.946078                       Heat (1995)   \n",
      "6           7     54  3.185185                    Sabrina (1995)   \n",
      "...       ...    ...       ...                               ...   \n",
      "8287   106782     54  3.916667   Wolf of Wall Street, The (2013)   \n",
      "8354   109374     52  3.778846  Grand Budapest Hotel, The (2014)   \n",
      "8358   109487     73  3.993151               Interstellar (2014)   \n",
      "8457   112852     59  4.050847    Guardians of the Galaxy (2014)   \n",
      "8673   122904     54  3.833333                   Deadpool (2016)   \n",
      "\n",
      "                                           genres  \n",
      "0     Adventure|Animation|Children|Comedy|Fantasy  \n",
      "1                      Adventure|Children|Fantasy  \n",
      "2                                  Comedy|Romance  \n",
      "5                           Action|Crime|Thriller  \n",
      "6                                  Comedy|Romance  \n",
      "...                                           ...  \n",
      "8287                           Comedy|Crime|Drama  \n",
      "8354                                 Comedy|Drama  \n",
      "8358                                  Sci-Fi|IMAX  \n",
      "8457                      Action|Adventure|Sci-Fi  \n",
      "8673               Action|Adventure|Comedy|Sci-Fi  \n",
      "\n",
      "[436 rows x 5 columns]\n"
     ]
    }
   ],
   "source": [
    "grouped_ratings = df.groupby('movieId')['rating'].agg(['count', 'mean']).reset_index()\n",
    "joined_df = pd.merge(grouped_ratings,df1, on='movieId', how='inner')\n",
    "filtered_df = joined_df[joined_df['count'] > 50]\n",
    "print(filtered_df)"
   ]
  },
  {
   "cell_type": "code",
   "execution_count": 76,
   "id": "51358f76",
   "metadata": {},
   "outputs": [
    {
     "name": "stdout",
     "output_type": "stream",
     "text": [
      "4.429022082018927\n",
      "Shawshank Redemption, The (1994)\n"
     ]
    }
   ],
   "source": [
    "rat = max(filtered_df[\"mean\"])\n",
    "print(rat) \n",
    "for index,row in filtered_df.iterrows():\n",
    "    if row[\"mean\"] == rat:\n",
    "        movie_pop = row[\"title\"]\n",
    "\n",
    "print(movie_pop)"
   ]
  },
  {
   "cell_type": "code",
   "execution_count": 79,
   "id": "00ad59e6",
   "metadata": {
    "scrolled": true
   },
   "outputs": [
    {
     "name": "stdout",
     "output_type": "stream",
     "text": [
      "      movieId  count      mean                             title  \\\n",
      "314       356    329  4.164134               Forrest Gump (1994)   \n",
      "277       318    317  4.429022  Shawshank Redemption, The (1994)   \n",
      "257       296    307  4.197068               Pulp Fiction (1994)   \n",
      "510       593    279  4.161290  Silence of the Lambs, The (1991)   \n",
      "1938     2571    278  4.192446                Matrix, The (1999)   \n",
      "...       ...    ...       ...                               ...   \n",
      "3147     4239     51  3.813725                       Blow (2001)   \n",
      "3490     4776     51  3.794118               Training Day (2001)   \n",
      "3539     4848     51  3.843137           Mulholland Drive (2001)   \n",
      "118       145     51  3.245098                   Bad Boys (1995)   \n",
      "1235     1645     51  3.411765       The Devil's Advocate (1997)   \n",
      "\n",
      "                                      genres  \n",
      "314                 Comedy|Drama|Romance|War  \n",
      "277                              Crime|Drama  \n",
      "257              Comedy|Crime|Drama|Thriller  \n",
      "510                    Crime|Horror|Thriller  \n",
      "1938                  Action|Sci-Fi|Thriller  \n",
      "...                                      ...  \n",
      "3147                             Crime|Drama  \n",
      "3490                    Crime|Drama|Thriller  \n",
      "3539  Crime|Drama|Film-Noir|Mystery|Thriller  \n",
      "118       Action|Comedy|Crime|Drama|Thriller  \n",
      "1235                  Drama|Mystery|Thriller  \n",
      "\n",
      "[436 rows x 5 columns]\n"
     ]
    },
    {
     "name": "stderr",
     "output_type": "stream",
     "text": [
      "C:\\Users\\SIVA KASHYAP\\AppData\\Local\\Temp\\ipykernel_29776\\3454408669.py:1: SettingWithCopyWarning: \n",
      "A value is trying to be set on a copy of a slice from a DataFrame\n",
      "\n",
      "See the caveats in the documentation: https://pandas.pydata.org/pandas-docs/stable/user_guide/indexing.html#returning-a-view-versus-a-copy\n",
      "  filtered_df.sort_values([\"count\"],\n"
     ]
    }
   ],
   "source": [
    "filtered_df.sort_values([\"count\"],\n",
    "                    axis=0, \n",
    "                    ascending=[False],  \n",
    "                    inplace=True) \n",
    "print(filtered_df)"
   ]
  },
  {
   "cell_type": "code",
   "execution_count": 81,
   "id": "1deef974",
   "metadata": {},
   "outputs": [],
   "source": [
    "filtered_df.to_csv(\"newcsv.csv\")"
   ]
  },
  {
   "cell_type": "code",
   "execution_count": 82,
   "id": "9efdd930",
   "metadata": {},
   "outputs": [],
   "source": [
    "df4 = pd.read_csv(\"newcsv.csv\")"
   ]
  },
  {
   "cell_type": "code",
   "execution_count": 85,
   "id": "d3ee56f7",
   "metadata": {},
   "outputs": [
    {
     "name": "stdout",
     "output_type": "stream",
     "text": [
      "    Unnamed: 0  movieId  count      mean  \\\n",
      "0         1938     2571    278  4.192446   \n",
      "1          224      260    251  4.231076   \n",
      "2          418      480    238  3.750000   \n",
      "3          507      589    224  3.970982   \n",
      "4          897     1196    211  4.215640   \n",
      "..         ...      ...    ...       ...   \n",
      "83        8673   122904     54  3.833333   \n",
      "84        2028     2701     53  2.207547   \n",
      "85         144      172     53  2.679245   \n",
      "86         559      673     53  2.707547   \n",
      "87        6192    45499     52  3.355769   \n",
      "\n",
      "                                                title  \\\n",
      "0                                  Matrix, The (1999)   \n",
      "1           Star Wars: Episode IV - A New Hope (1977)   \n",
      "2                                Jurassic Park (1993)   \n",
      "3                   Terminator 2: Judgment Day (1991)   \n",
      "4   Star Wars: Episode V - The Empire Strikes Back...   \n",
      "..                                                ...   \n",
      "83                                    Deadpool (2016)   \n",
      "84                              Wild Wild West (1999)   \n",
      "85                             Johnny Mnemonic (1995)   \n",
      "86                                   Space Jam (1996)   \n",
      "87                       X-Men: The Last Stand (2006)   \n",
      "\n",
      "                                               genres  \n",
      "0                              Action|Sci-Fi|Thriller  \n",
      "1                             Action|Adventure|Sci-Fi  \n",
      "2                    Action|Adventure|Sci-Fi|Thriller  \n",
      "3                                       Action|Sci-Fi  \n",
      "4                             Action|Adventure|Sci-Fi  \n",
      "..                                                ...  \n",
      "83                     Action|Adventure|Comedy|Sci-Fi  \n",
      "84                       Action|Comedy|Sci-Fi|Western  \n",
      "85                             Action|Sci-Fi|Thriller  \n",
      "86  Adventure|Animation|Children|Comedy|Fantasy|Sc...  \n",
      "87                             Action|Sci-Fi|Thriller  \n",
      "\n",
      "[88 rows x 6 columns]\n"
     ]
    },
    {
     "name": "stderr",
     "output_type": "stream",
     "text": [
      "C:\\Users\\SIVA KASHYAP\\AppData\\Local\\Temp\\ipykernel_29776\\4041100414.py:4: FutureWarning: The frame.append method is deprecated and will be removed from pandas in a future version. Use pandas.concat instead.\n",
      "  df5 = df5.append(row,ignore_index=True)\n"
     ]
    }
   ],
   "source": [
    "df5 = pd.DataFrame()\n",
    "for index,row in df4.iterrows():\n",
    "    if \"Sci-Fi\" in row[\"genres\"]:\n",
    "        df5 = df5.append(row,ignore_index=True)\n",
    "\n",
    "df5.sort_values([\"count\"],\n",
    "                    axis=0, \n",
    "                    ascending=[False],  \n",
    "                    inplace=True) \n",
    "print(df5)"
   ]
  },
  {
   "cell_type": "code",
   "execution_count": null,
   "id": "e5bb0dfa",
   "metadata": {
    "scrolled": false
   },
   "outputs": [],
   "source": [
    "df6 = pd.read_csv(\"links.csv\")\n",
    "merged_df = pd.merge(filtered_df,df6, on='movieId', how='inner')\n",
    "imdb_ids = merged_df['imdbId']\n",
    "merged_df['rating'] = None\n",
    "from imdb import IMDb\n",
    "ia = IMDb()\n",
    "\n",
    "for index,row in merged_df.iterrows():\n",
    "    imdb_id = row['imdbId']\n",
    "    movie = ia.get_movie(imdb_id)\n",
    "    rating = movie.data.get('rating', None)\n",
    "    \n",
    "    merged_df.at[index, 'rating'] = rating"
   ]
  },
  {
   "cell_type": "code",
   "execution_count": null,
   "id": "151d1960",
   "metadata": {},
   "outputs": [],
   "source": [
    "merged_df.to_csv(\"new.csv\")"
   ]
  },
  {
   "cell_type": "code",
   "execution_count": 144,
   "id": "55aee50a",
   "metadata": {},
   "outputs": [],
   "source": [
    "final_df = pd.read_csv('new.csv')"
   ]
  },
  {
   "cell_type": "code",
   "execution_count": 145,
   "id": "98d72af3",
   "metadata": {
    "scrolled": true
   },
   "outputs": [
    {
     "name": "stdout",
     "output_type": "stream",
     "text": [
      "     Unnamed: 0  movieId  count      mean                             title  \\\n",
      "1             1      318    317  4.429022  Shawshank Redemption, The (1994)   \n",
      "21           21      858    192  4.289062             Godfather, The (1972)   \n",
      "72           72     1221    129  4.259690    Godfather: Part II, The (1974)   \n",
      "44           44    58559    149  4.238255           Dark Knight, The (2008)   \n",
      "370         370     1203     57  4.149123               12 Angry Men (1957)   \n",
      "..          ...      ...    ...       ...                               ...   \n",
      "338         338      420     59  2.720339      Beverly Hills Cop III (1994)   \n",
      "304         304      435     63  2.420635                  Coneheads (1993)   \n",
      "59           59      153    137  2.916058             Batman Forever (1995)   \n",
      "365         365      160     57  2.877193                      Congo (1995)   \n",
      "404         404     2701     53  2.207547             Wild Wild West (1999)   \n",
      "\n",
      "                              genres  imdbId  tmdbId  rating  \n",
      "1                        Crime|Drama  111161     278     9.3  \n",
      "21                       Crime|Drama   68646     238     9.2  \n",
      "72                       Crime|Drama   71562     240     9.0  \n",
      "44           Action|Crime|Drama|IMAX  468569     155     9.0  \n",
      "370                            Drama   50083     389     9.0  \n",
      "..                               ...     ...     ...     ...  \n",
      "338     Action|Comedy|Crime|Thriller  109254     306     5.5  \n",
      "304                    Comedy|Sci-Fi  106598    9612     5.4  \n",
      "59     Action|Adventure|Comedy|Crime  112462     414     5.4  \n",
      "365  Action|Adventure|Mystery|Sci-Fi  112715   10329     5.3  \n",
      "404     Action|Comedy|Sci-Fi|Western  120891    8487     4.9  \n",
      "\n",
      "[436 rows x 9 columns]\n"
     ]
    }
   ],
   "source": [
    "final_df.sort_values([\"rating\"],\n",
    "                    axis=0, \n",
    "                    ascending=[False],  \n",
    "                    inplace=True) \n",
    "print(final_df)"
   ]
  },
  {
   "cell_type": "code",
   "execution_count": 146,
   "id": "ced991ac",
   "metadata": {},
   "outputs": [
    {
     "name": "stdout",
     "output_type": "stream",
     "text": [
      "    Unnamed: 0  movieId  count      mean  \\\n",
      "0           51    79132    143  4.066434   \n",
      "2           12     1196    211  4.215640   \n",
      "3          241   109487     73  3.993151   \n",
      "1            4     2571    278  4.192446   \n",
      "4            5      260    251  4.231076   \n",
      "..         ...      ...    ...       ...   \n",
      "83         414      172     53  2.679245   \n",
      "84         315      173     62  2.669355   \n",
      "85         304      435     63  2.420635   \n",
      "86         365      160     57  2.877193   \n",
      "87         404     2701     53  2.207547   \n",
      "\n",
      "                                                title  \\\n",
      "0                                    Inception (2010)   \n",
      "2   Star Wars: Episode V - The Empire Strikes Back...   \n",
      "3                                 Interstellar (2014)   \n",
      "1                                  Matrix, The (1999)   \n",
      "4           Star Wars: Episode IV - A New Hope (1977)   \n",
      "..                                                ...   \n",
      "83                             Johnny Mnemonic (1995)   \n",
      "84                                 Judge Dredd (1995)   \n",
      "85                                   Coneheads (1993)   \n",
      "86                                       Congo (1995)   \n",
      "87                              Wild Wild West (1999)   \n",
      "\n",
      "                                             genres   imdbId  tmdbId  rating  \n",
      "0   Action|Crime|Drama|Mystery|Sci-Fi|Thriller|IMAX  1375666   27205     8.8  \n",
      "2                           Action|Adventure|Sci-Fi    80684    1891     8.7  \n",
      "3                                       Sci-Fi|IMAX   816692  157336     8.7  \n",
      "1                            Action|Sci-Fi|Thriller   133093     603     8.7  \n",
      "4                           Action|Adventure|Sci-Fi    76759      11     8.6  \n",
      "..                                              ...      ...     ...     ...  \n",
      "83                           Action|Sci-Fi|Thriller   113481    9886     5.6  \n",
      "84                              Action|Crime|Sci-Fi   113492    9482     5.6  \n",
      "85                                    Comedy|Sci-Fi   106598    9612     5.4  \n",
      "86                  Action|Adventure|Mystery|Sci-Fi   112715   10329     5.3  \n",
      "87                     Action|Comedy|Sci-Fi|Western   120891    8487     4.9  \n",
      "\n",
      "[88 rows x 9 columns]\n"
     ]
    },
    {
     "name": "stderr",
     "output_type": "stream",
     "text": [
      "C:\\Users\\SIVA KASHYAP\\AppData\\Local\\Temp\\ipykernel_29776\\61498164.py:4: FutureWarning: The frame.append method is deprecated and will be removed from pandas in a future version. Use pandas.concat instead.\n",
      "  df9 = df9.append(row,ignore_index=True)\n"
     ]
    }
   ],
   "source": [
    "df9 = pd.DataFrame()\n",
    "for index,row in final_df.iterrows():\n",
    "    if \"Sci-Fi\" in row[\"genres\"]:\n",
    "        df9 = df9.append(row,ignore_index=True)\n",
    "\n",
    "df9.sort_values([\"rating\"],\n",
    "                    axis=0, \n",
    "                    ascending=[False],  \n",
    "                    inplace=True) \n",
    "print(df9)"
   ]
  },
  {
   "cell_type": "code",
   "execution_count": null,
   "id": "44e0aa0f",
   "metadata": {},
   "outputs": [],
   "source": []
  }
 ],
 "metadata": {
  "kernelspec": {
   "display_name": "Python 3 (ipykernel)",
   "language": "python",
   "name": "python3"
  },
  "language_info": {
   "codemirror_mode": {
    "name": "ipython",
    "version": 3
   },
   "file_extension": ".py",
   "mimetype": "text/x-python",
   "name": "python",
   "nbconvert_exporter": "python",
   "pygments_lexer": "ipython3",
   "version": "3.10.9"
  }
 },
 "nbformat": 4,
 "nbformat_minor": 5
}
